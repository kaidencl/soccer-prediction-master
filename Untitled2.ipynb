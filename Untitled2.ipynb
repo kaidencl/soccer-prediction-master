{
 "cells": [
  {
   "cell_type": "code",
   "execution_count": 2,
   "metadata": {},
   "outputs": [],
   "source": [
    "import numpy as np\n",
    "import pandas as pd\n",
    "import matplotlib.pyplot as plt\n",
    "import statsmodels.api as sm\n",
    "import seaborn as sns"
   ]
  },
  {
   "cell_type": "code",
   "execution_count": 3,
   "metadata": {},
   "outputs": [],
   "source": [
    "epl_19 = pd.read_csv('./2019:2020/E0.csv', encoding='cp1252')"
   ]
  },
  {
   "cell_type": "code",
   "execution_count": 5,
   "metadata": {},
   "outputs": [],
   "source": [
    "epl_19['FTR'] = epl_19['FTR'].replace({'H':1, 'D':0.5, 'A':0})"
   ]
  },
  {
   "cell_type": "code",
   "execution_count": 6,
   "metadata": {},
   "outputs": [
    {
     "data": {
      "text/plain": [
       "(380, 106)"
      ]
     },
     "execution_count": 6,
     "metadata": {},
     "output_type": "execute_result"
    }
   ],
   "source": [
    "epl_19.shape"
   ]
  },
  {
   "cell_type": "code",
   "execution_count": 9,
   "metadata": {},
   "outputs": [
    {
     "data": {
      "text/plain": [
       "'Liverpool'"
      ]
     },
     "execution_count": 9,
     "metadata": {},
     "output_type": "execute_result"
    }
   ],
   "source": [
    "epl_19['HomeTeam'][0]"
   ]
  },
  {
   "cell_type": "code",
   "execution_count": 109,
   "metadata": {},
   "outputs": [],
   "source": [
    "home_team = pd.DataFrame()"
   ]
  },
  {
   "cell_type": "code",
   "execution_count": null,
   "metadata": {},
   "outputs": [],
   "source": [
    "'AvgH', 'AHh', 'AvgAHH', 'AvgCH', 'AHCh', 'AvgCAHH'"
   ]
  },
  {
   "cell_type": "code",
   "execution_count": 110,
   "metadata": {},
   "outputs": [],
   "source": [
    "home_team['Team'] = epl_19['HomeTeam']\n",
    "home_team['Shots'] = epl_19['HS']\n",
    "home_team['Shots_on_target'] = epl_19['HST']\n",
    "home_team['Fouls'] = epl_19['HF']\n",
    "home_team['Corners'] = epl_19['HC']\n",
    "home_team['Yellowcards'] = epl_19['HY']\n",
    "home_team['Redcards'] = epl_19['HR']\n",
    "home_team['Odds_max'] = epl_19['MaxH']\n",
    "home_team['Odds_average'] = epl_19['AvgH']\n",
    "home_team['Handicap'] = epl_19['AHh']\n",
    "home_team['Handicap_max'] = epl_19['MaxAHH'] \n",
    "home_team['Handicap_average'] = epl_19['AvgAHH']\n",
    "home_team['Odds_max_close'] = epl_19['MaxCH']\n",
    "home_team['Odds_average_close'] = epl_19['AvgCH']\n",
    "home_team['Handicap_close'] = epl_19['AHCh']\n",
    "home_team['Handicap_max_close'] = epl_19['MaxCAHH'] \n",
    "home_team['Handicap_average_close'] = epl_19['AvgCAHH'] \n",
    "home_team['FTR'] = epl_19['FTR'] "
   ]
  },
  {
   "cell_type": "code",
   "execution_count": 111,
   "metadata": {},
   "outputs": [],
   "source": [
    "home_team.set_index(['Team'], inplace=True)"
   ]
  },
  {
   "cell_type": "code",
   "execution_count": 112,
   "metadata": {},
   "outputs": [
    {
     "data": {
      "text/html": [
       "<div>\n",
       "<style scoped>\n",
       "    .dataframe tbody tr th:only-of-type {\n",
       "        vertical-align: middle;\n",
       "    }\n",
       "\n",
       "    .dataframe tbody tr th {\n",
       "        vertical-align: top;\n",
       "    }\n",
       "\n",
       "    .dataframe thead th {\n",
       "        text-align: right;\n",
       "    }\n",
       "</style>\n",
       "<table border=\"1\" class=\"dataframe\">\n",
       "  <thead>\n",
       "    <tr style=\"text-align: right;\">\n",
       "      <th>Team</th>\n",
       "      <th>Liverpool</th>\n",
       "      <th>West Ham</th>\n",
       "      <th>Bournemouth</th>\n",
       "      <th>Burnley</th>\n",
       "      <th>Crystal Palace</th>\n",
       "      <th>Watford</th>\n",
       "      <th>Tottenham</th>\n",
       "      <th>Leicester</th>\n",
       "      <th>Newcastle</th>\n",
       "      <th>Man United</th>\n",
       "      <th>...</th>\n",
       "      <th>Arsenal</th>\n",
       "      <th>Burnley</th>\n",
       "      <th>Chelsea</th>\n",
       "      <th>Crystal Palace</th>\n",
       "      <th>Everton</th>\n",
       "      <th>Leicester</th>\n",
       "      <th>Man City</th>\n",
       "      <th>Newcastle</th>\n",
       "      <th>Southampton</th>\n",
       "      <th>West Ham</th>\n",
       "    </tr>\n",
       "  </thead>\n",
       "  <tbody>\n",
       "    <tr>\n",
       "      <th>Shots</th>\n",
       "      <td>15.00</td>\n",
       "      <td>5.00</td>\n",
       "      <td>13.00</td>\n",
       "      <td>10.00</td>\n",
       "      <td>6.00</td>\n",
       "      <td>11.00</td>\n",
       "      <td>31.00</td>\n",
       "      <td>15.00</td>\n",
       "      <td>9.00</td>\n",
       "      <td>11.00</td>\n",
       "      <td>...</td>\n",
       "      <td>13.00</td>\n",
       "      <td>13.00</td>\n",
       "      <td>11.00</td>\n",
       "      <td>13.00</td>\n",
       "      <td>13.00</td>\n",
       "      <td>14.00</td>\n",
       "      <td>31.00</td>\n",
       "      <td>3.00</td>\n",
       "      <td>13.00</td>\n",
       "      <td>10.00</td>\n",
       "    </tr>\n",
       "    <tr>\n",
       "      <th>Shots_on_target</th>\n",
       "      <td>7.00</td>\n",
       "      <td>3.00</td>\n",
       "      <td>3.00</td>\n",
       "      <td>4.00</td>\n",
       "      <td>2.00</td>\n",
       "      <td>3.00</td>\n",
       "      <td>7.00</td>\n",
       "      <td>1.00</td>\n",
       "      <td>2.00</td>\n",
       "      <td>5.00</td>\n",
       "      <td>...</td>\n",
       "      <td>5.00</td>\n",
       "      <td>2.00</td>\n",
       "      <td>3.00</td>\n",
       "      <td>2.00</td>\n",
       "      <td>5.00</td>\n",
       "      <td>3.00</td>\n",
       "      <td>10.00</td>\n",
       "      <td>2.00</td>\n",
       "      <td>4.00</td>\n",
       "      <td>1.00</td>\n",
       "    </tr>\n",
       "    <tr>\n",
       "      <th>Fouls</th>\n",
       "      <td>9.00</td>\n",
       "      <td>6.00</td>\n",
       "      <td>10.00</td>\n",
       "      <td>6.00</td>\n",
       "      <td>16.00</td>\n",
       "      <td>15.00</td>\n",
       "      <td>13.00</td>\n",
       "      <td>3.00</td>\n",
       "      <td>12.00</td>\n",
       "      <td>15.00</td>\n",
       "      <td>...</td>\n",
       "      <td>9.00</td>\n",
       "      <td>11.00</td>\n",
       "      <td>10.00</td>\n",
       "      <td>11.00</td>\n",
       "      <td>11.00</td>\n",
       "      <td>12.00</td>\n",
       "      <td>7.00</td>\n",
       "      <td>11.00</td>\n",
       "      <td>9.00</td>\n",
       "      <td>16.00</td>\n",
       "    </tr>\n",
       "    <tr>\n",
       "      <th>Corners</th>\n",
       "      <td>11.00</td>\n",
       "      <td>1.00</td>\n",
       "      <td>3.00</td>\n",
       "      <td>2.00</td>\n",
       "      <td>6.00</td>\n",
       "      <td>5.00</td>\n",
       "      <td>14.00</td>\n",
       "      <td>12.00</td>\n",
       "      <td>5.00</td>\n",
       "      <td>3.00</td>\n",
       "      <td>...</td>\n",
       "      <td>4.00</td>\n",
       "      <td>6.00</td>\n",
       "      <td>3.00</td>\n",
       "      <td>7.00</td>\n",
       "      <td>2.00</td>\n",
       "      <td>3.00</td>\n",
       "      <td>9.00</td>\n",
       "      <td>2.00</td>\n",
       "      <td>9.00</td>\n",
       "      <td>0.00</td>\n",
       "    </tr>\n",
       "    <tr>\n",
       "      <th>Yellowcards</th>\n",
       "      <td>0.00</td>\n",
       "      <td>2.00</td>\n",
       "      <td>2.00</td>\n",
       "      <td>0.00</td>\n",
       "      <td>2.00</td>\n",
       "      <td>0.00</td>\n",
       "      <td>1.00</td>\n",
       "      <td>0.00</td>\n",
       "      <td>1.00</td>\n",
       "      <td>3.00</td>\n",
       "      <td>...</td>\n",
       "      <td>3.00</td>\n",
       "      <td>3.00</td>\n",
       "      <td>2.00</td>\n",
       "      <td>3.00</td>\n",
       "      <td>1.00</td>\n",
       "      <td>1.00</td>\n",
       "      <td>1.00</td>\n",
       "      <td>1.00</td>\n",
       "      <td>0.00</td>\n",
       "      <td>2.00</td>\n",
       "    </tr>\n",
       "    <tr>\n",
       "      <th>Redcards</th>\n",
       "      <td>0.00</td>\n",
       "      <td>0.00</td>\n",
       "      <td>0.00</td>\n",
       "      <td>0.00</td>\n",
       "      <td>0.00</td>\n",
       "      <td>0.00</td>\n",
       "      <td>0.00</td>\n",
       "      <td>0.00</td>\n",
       "      <td>0.00</td>\n",
       "      <td>0.00</td>\n",
       "      <td>...</td>\n",
       "      <td>0.00</td>\n",
       "      <td>0.00</td>\n",
       "      <td>0.00</td>\n",
       "      <td>0.00</td>\n",
       "      <td>0.00</td>\n",
       "      <td>1.00</td>\n",
       "      <td>0.00</td>\n",
       "      <td>0.00</td>\n",
       "      <td>0.00</td>\n",
       "      <td>0.00</td>\n",
       "    </tr>\n",
       "    <tr>\n",
       "      <th>Odds_max</th>\n",
       "      <td>1.16</td>\n",
       "      <td>13.00</td>\n",
       "      <td>2.06</td>\n",
       "      <td>2.80</td>\n",
       "      <td>3.21</td>\n",
       "      <td>2.00</td>\n",
       "      <td>1.33</td>\n",
       "      <td>2.29</td>\n",
       "      <td>4.70</td>\n",
       "      <td>2.28</td>\n",
       "      <td>...</td>\n",
       "      <td>2.05</td>\n",
       "      <td>2.38</td>\n",
       "      <td>1.90</td>\n",
       "      <td>6.75</td>\n",
       "      <td>2.33</td>\n",
       "      <td>3.36</td>\n",
       "      <td>1.10</td>\n",
       "      <td>8.20</td>\n",
       "      <td>2.25</td>\n",
       "      <td>3.20</td>\n",
       "    </tr>\n",
       "    <tr>\n",
       "      <th>Odds_average</th>\n",
       "      <td>1.14</td>\n",
       "      <td>11.84</td>\n",
       "      <td>2.01</td>\n",
       "      <td>2.68</td>\n",
       "      <td>3.13</td>\n",
       "      <td>1.94</td>\n",
       "      <td>1.30</td>\n",
       "      <td>2.22</td>\n",
       "      <td>4.49</td>\n",
       "      <td>2.19</td>\n",
       "      <td>...</td>\n",
       "      <td>1.93</td>\n",
       "      <td>2.32</td>\n",
       "      <td>1.84</td>\n",
       "      <td>6.12</td>\n",
       "      <td>2.24</td>\n",
       "      <td>3.17</td>\n",
       "      <td>1.07</td>\n",
       "      <td>7.60</td>\n",
       "      <td>2.18</td>\n",
       "      <td>3.05</td>\n",
       "    </tr>\n",
       "    <tr>\n",
       "      <th>Handicap</th>\n",
       "      <td>-2.25</td>\n",
       "      <td>1.75</td>\n",
       "      <td>-0.50</td>\n",
       "      <td>0.00</td>\n",
       "      <td>0.25</td>\n",
       "      <td>-0.50</td>\n",
       "      <td>-1.50</td>\n",
       "      <td>-0.25</td>\n",
       "      <td>0.75</td>\n",
       "      <td>-0.25</td>\n",
       "      <td>...</td>\n",
       "      <td>-0.50</td>\n",
       "      <td>-0.25</td>\n",
       "      <td>-0.50</td>\n",
       "      <td>1.00</td>\n",
       "      <td>-0.25</td>\n",
       "      <td>0.25</td>\n",
       "      <td>-3.00</td>\n",
       "      <td>1.50</td>\n",
       "      <td>-0.25</td>\n",
       "      <td>0.25</td>\n",
       "    </tr>\n",
       "    <tr>\n",
       "      <th>Handicap_max</th>\n",
       "      <td>1.97</td>\n",
       "      <td>2.02</td>\n",
       "      <td>2.04</td>\n",
       "      <td>1.94</td>\n",
       "      <td>1.88</td>\n",
       "      <td>1.98</td>\n",
       "      <td>2.00</td>\n",
       "      <td>1.95</td>\n",
       "      <td>1.88</td>\n",
       "      <td>1.92</td>\n",
       "      <td>...</td>\n",
       "      <td>2.05</td>\n",
       "      <td>2.05</td>\n",
       "      <td>1.90</td>\n",
       "      <td>2.01</td>\n",
       "      <td>2.00</td>\n",
       "      <td>1.98</td>\n",
       "      <td>2.00</td>\n",
       "      <td>1.87</td>\n",
       "      <td>1.92</td>\n",
       "      <td>1.94</td>\n",
       "    </tr>\n",
       "    <tr>\n",
       "      <th>Handicap_average</th>\n",
       "      <td>1.94</td>\n",
       "      <td>1.99</td>\n",
       "      <td>2.00</td>\n",
       "      <td>1.91</td>\n",
       "      <td>1.84</td>\n",
       "      <td>1.94</td>\n",
       "      <td>1.93</td>\n",
       "      <td>1.91</td>\n",
       "      <td>1.85</td>\n",
       "      <td>1.89</td>\n",
       "      <td>...</td>\n",
       "      <td>1.93</td>\n",
       "      <td>2.00</td>\n",
       "      <td>1.84</td>\n",
       "      <td>1.94</td>\n",
       "      <td>1.96</td>\n",
       "      <td>1.91</td>\n",
       "      <td>1.95</td>\n",
       "      <td>1.79</td>\n",
       "      <td>1.88</td>\n",
       "      <td>1.89</td>\n",
       "    </tr>\n",
       "    <tr>\n",
       "      <th>Odds_max_close</th>\n",
       "      <td>1.16</td>\n",
       "      <td>13.00</td>\n",
       "      <td>2.03</td>\n",
       "      <td>2.72</td>\n",
       "      <td>3.55</td>\n",
       "      <td>2.15</td>\n",
       "      <td>1.40</td>\n",
       "      <td>2.55</td>\n",
       "      <td>3.76</td>\n",
       "      <td>2.20</td>\n",
       "      <td>...</td>\n",
       "      <td>2.09</td>\n",
       "      <td>2.75</td>\n",
       "      <td>1.99</td>\n",
       "      <td>8.30</td>\n",
       "      <td>2.46</td>\n",
       "      <td>3.91</td>\n",
       "      <td>1.07</td>\n",
       "      <td>6.45</td>\n",
       "      <td>2.05</td>\n",
       "      <td>2.75</td>\n",
       "    </tr>\n",
       "    <tr>\n",
       "      <th>Odds_average_close</th>\n",
       "      <td>1.14</td>\n",
       "      <td>11.14</td>\n",
       "      <td>1.98</td>\n",
       "      <td>2.65</td>\n",
       "      <td>3.41</td>\n",
       "      <td>2.07</td>\n",
       "      <td>1.36</td>\n",
       "      <td>2.41</td>\n",
       "      <td>3.36</td>\n",
       "      <td>2.05</td>\n",
       "      <td>...</td>\n",
       "      <td>2.01</td>\n",
       "      <td>2.62</td>\n",
       "      <td>1.91</td>\n",
       "      <td>6.87</td>\n",
       "      <td>2.35</td>\n",
       "      <td>3.71</td>\n",
       "      <td>1.04</td>\n",
       "      <td>5.57</td>\n",
       "      <td>1.99</td>\n",
       "      <td>2.62</td>\n",
       "    </tr>\n",
       "    <tr>\n",
       "      <th>Handicap_close</th>\n",
       "      <td>-2.25</td>\n",
       "      <td>1.75</td>\n",
       "      <td>-0.50</td>\n",
       "      <td>0.00</td>\n",
       "      <td>0.25</td>\n",
       "      <td>-0.50</td>\n",
       "      <td>-1.50</td>\n",
       "      <td>-0.25</td>\n",
       "      <td>0.25</td>\n",
       "      <td>-0.50</td>\n",
       "      <td>...</td>\n",
       "      <td>-0.50</td>\n",
       "      <td>0.00</td>\n",
       "      <td>-0.50</td>\n",
       "      <td>1.25</td>\n",
       "      <td>-0.25</td>\n",
       "      <td>0.50</td>\n",
       "      <td>-3.75</td>\n",
       "      <td>1.00</td>\n",
       "      <td>-0.50</td>\n",
       "      <td>0.00</td>\n",
       "    </tr>\n",
       "    <tr>\n",
       "      <th>Handicap_max_close</th>\n",
       "      <td>1.99</td>\n",
       "      <td>2.07</td>\n",
       "      <td>2.00</td>\n",
       "      <td>1.90</td>\n",
       "      <td>2.03</td>\n",
       "      <td>2.12</td>\n",
       "      <td>2.21</td>\n",
       "      <td>2.12</td>\n",
       "      <td>2.17</td>\n",
       "      <td>2.10</td>\n",
       "      <td>...</td>\n",
       "      <td>2.09</td>\n",
       "      <td>1.96</td>\n",
       "      <td>1.98</td>\n",
       "      <td>1.87</td>\n",
       "      <td>2.09</td>\n",
       "      <td>1.94</td>\n",
       "      <td>2.06</td>\n",
       "      <td>2.03</td>\n",
       "      <td>2.03</td>\n",
       "      <td>1.99</td>\n",
       "    </tr>\n",
       "    <tr>\n",
       "      <th>Handicap_average_close</th>\n",
       "      <td>1.90</td>\n",
       "      <td>1.97</td>\n",
       "      <td>1.96</td>\n",
       "      <td>1.86</td>\n",
       "      <td>1.96</td>\n",
       "      <td>2.05</td>\n",
       "      <td>2.08</td>\n",
       "      <td>2.06</td>\n",
       "      <td>2.00</td>\n",
       "      <td>2.04</td>\n",
       "      <td>...</td>\n",
       "      <td>2.02</td>\n",
       "      <td>1.89</td>\n",
       "      <td>1.92</td>\n",
       "      <td>1.81</td>\n",
       "      <td>2.05</td>\n",
       "      <td>1.86</td>\n",
       "      <td>2.02</td>\n",
       "      <td>1.95</td>\n",
       "      <td>1.98</td>\n",
       "      <td>1.93</td>\n",
       "    </tr>\n",
       "    <tr>\n",
       "      <th>FTR</th>\n",
       "      <td>1.00</td>\n",
       "      <td>0.00</td>\n",
       "      <td>0.50</td>\n",
       "      <td>1.00</td>\n",
       "      <td>0.50</td>\n",
       "      <td>0.00</td>\n",
       "      <td>1.00</td>\n",
       "      <td>0.50</td>\n",
       "      <td>0.00</td>\n",
       "      <td>1.00</td>\n",
       "      <td>...</td>\n",
       "      <td>1.00</td>\n",
       "      <td>0.00</td>\n",
       "      <td>1.00</td>\n",
       "      <td>0.50</td>\n",
       "      <td>0.00</td>\n",
       "      <td>0.00</td>\n",
       "      <td>1.00</td>\n",
       "      <td>0.00</td>\n",
       "      <td>1.00</td>\n",
       "      <td>0.50</td>\n",
       "    </tr>\n",
       "  </tbody>\n",
       "</table>\n",
       "<p>17 rows × 380 columns</p>\n",
       "</div>"
      ],
      "text/plain": [
       "Team                    Liverpool  West Ham  Bournemouth  Burnley  \\\n",
       "Shots                       15.00      5.00        13.00    10.00   \n",
       "Shots_on_target              7.00      3.00         3.00     4.00   \n",
       "Fouls                        9.00      6.00        10.00     6.00   \n",
       "Corners                     11.00      1.00         3.00     2.00   \n",
       "Yellowcards                  0.00      2.00         2.00     0.00   \n",
       "Redcards                     0.00      0.00         0.00     0.00   \n",
       "Odds_max                     1.16     13.00         2.06     2.80   \n",
       "Odds_average                 1.14     11.84         2.01     2.68   \n",
       "Handicap                    -2.25      1.75        -0.50     0.00   \n",
       "Handicap_max                 1.97      2.02         2.04     1.94   \n",
       "Handicap_average             1.94      1.99         2.00     1.91   \n",
       "Odds_max_close               1.16     13.00         2.03     2.72   \n",
       "Odds_average_close           1.14     11.14         1.98     2.65   \n",
       "Handicap_close              -2.25      1.75        -0.50     0.00   \n",
       "Handicap_max_close           1.99      2.07         2.00     1.90   \n",
       "Handicap_average_close       1.90      1.97         1.96     1.86   \n",
       "FTR                          1.00      0.00         0.50     1.00   \n",
       "\n",
       "Team                    Crystal Palace  Watford  Tottenham  Leicester  \\\n",
       "Shots                             6.00    11.00      31.00      15.00   \n",
       "Shots_on_target                   2.00     3.00       7.00       1.00   \n",
       "Fouls                            16.00    15.00      13.00       3.00   \n",
       "Corners                           6.00     5.00      14.00      12.00   \n",
       "Yellowcards                       2.00     0.00       1.00       0.00   \n",
       "Redcards                          0.00     0.00       0.00       0.00   \n",
       "Odds_max                          3.21     2.00       1.33       2.29   \n",
       "Odds_average                      3.13     1.94       1.30       2.22   \n",
       "Handicap                          0.25    -0.50      -1.50      -0.25   \n",
       "Handicap_max                      1.88     1.98       2.00       1.95   \n",
       "Handicap_average                  1.84     1.94       1.93       1.91   \n",
       "Odds_max_close                    3.55     2.15       1.40       2.55   \n",
       "Odds_average_close                3.41     2.07       1.36       2.41   \n",
       "Handicap_close                    0.25    -0.50      -1.50      -0.25   \n",
       "Handicap_max_close                2.03     2.12       2.21       2.12   \n",
       "Handicap_average_close            1.96     2.05       2.08       2.06   \n",
       "FTR                               0.50     0.00       1.00       0.50   \n",
       "\n",
       "Team                    Newcastle  Man United  ...  Arsenal  Burnley  Chelsea  \\\n",
       "Shots                        9.00       11.00  ...    13.00    13.00    11.00   \n",
       "Shots_on_target              2.00        5.00  ...     5.00     2.00     3.00   \n",
       "Fouls                       12.00       15.00  ...     9.00    11.00    10.00   \n",
       "Corners                      5.00        3.00  ...     4.00     6.00     3.00   \n",
       "Yellowcards                  1.00        3.00  ...     3.00     3.00     2.00   \n",
       "Redcards                     0.00        0.00  ...     0.00     0.00     0.00   \n",
       "Odds_max                     4.70        2.28  ...     2.05     2.38     1.90   \n",
       "Odds_average                 4.49        2.19  ...     1.93     2.32     1.84   \n",
       "Handicap                     0.75       -0.25  ...    -0.50    -0.25    -0.50   \n",
       "Handicap_max                 1.88        1.92  ...     2.05     2.05     1.90   \n",
       "Handicap_average             1.85        1.89  ...     1.93     2.00     1.84   \n",
       "Odds_max_close               3.76        2.20  ...     2.09     2.75     1.99   \n",
       "Odds_average_close           3.36        2.05  ...     2.01     2.62     1.91   \n",
       "Handicap_close               0.25       -0.50  ...    -0.50     0.00    -0.50   \n",
       "Handicap_max_close           2.17        2.10  ...     2.09     1.96     1.98   \n",
       "Handicap_average_close       2.00        2.04  ...     2.02     1.89     1.92   \n",
       "FTR                          0.00        1.00  ...     1.00     0.00     1.00   \n",
       "\n",
       "Team                    Crystal Palace  Everton  Leicester  Man City  \\\n",
       "Shots                            13.00    13.00      14.00     31.00   \n",
       "Shots_on_target                   2.00     5.00       3.00     10.00   \n",
       "Fouls                            11.00    11.00      12.00      7.00   \n",
       "Corners                           7.00     2.00       3.00      9.00   \n",
       "Yellowcards                       3.00     1.00       1.00      1.00   \n",
       "Redcards                          0.00     0.00       1.00      0.00   \n",
       "Odds_max                          6.75     2.33       3.36      1.10   \n",
       "Odds_average                      6.12     2.24       3.17      1.07   \n",
       "Handicap                          1.00    -0.25       0.25     -3.00   \n",
       "Handicap_max                      2.01     2.00       1.98      2.00   \n",
       "Handicap_average                  1.94     1.96       1.91      1.95   \n",
       "Odds_max_close                    8.30     2.46       3.91      1.07   \n",
       "Odds_average_close                6.87     2.35       3.71      1.04   \n",
       "Handicap_close                    1.25    -0.25       0.50     -3.75   \n",
       "Handicap_max_close                1.87     2.09       1.94      2.06   \n",
       "Handicap_average_close            1.81     2.05       1.86      2.02   \n",
       "FTR                               0.50     0.00       0.00      1.00   \n",
       "\n",
       "Team                    Newcastle  Southampton  West Ham  \n",
       "Shots                        3.00        13.00     10.00  \n",
       "Shots_on_target              2.00         4.00      1.00  \n",
       "Fouls                       11.00         9.00     16.00  \n",
       "Corners                      2.00         9.00      0.00  \n",
       "Yellowcards                  1.00         0.00      2.00  \n",
       "Redcards                     0.00         0.00      0.00  \n",
       "Odds_max                     8.20         2.25      3.20  \n",
       "Odds_average                 7.60         2.18      3.05  \n",
       "Handicap                     1.50        -0.25      0.25  \n",
       "Handicap_max                 1.87         1.92      1.94  \n",
       "Handicap_average             1.79         1.88      1.89  \n",
       "Odds_max_close               6.45         2.05      2.75  \n",
       "Odds_average_close           5.57         1.99      2.62  \n",
       "Handicap_close               1.00        -0.50      0.00  \n",
       "Handicap_max_close           2.03         2.03      1.99  \n",
       "Handicap_average_close       1.95         1.98      1.93  \n",
       "FTR                          0.00         1.00      0.50  \n",
       "\n",
       "[17 rows x 380 columns]"
      ]
     },
     "execution_count": 112,
     "metadata": {},
     "output_type": "execute_result"
    }
   ],
   "source": [
    "home_team.T"
   ]
  },
  {
   "cell_type": "code",
   "execution_count": 115,
   "metadata": {},
   "outputs": [],
   "source": [
    "away_team = pd.DataFrame()"
   ]
  },
  {
   "cell_type": "code",
   "execution_count": 116,
   "metadata": {},
   "outputs": [],
   "source": [
    "away_team['Team'] = epl_19['AwayTeam']\n",
    "away_team['Shots'] = epl_19['AS']\n",
    "away_team['Shots_on_target'] = epl_19['AST']\n",
    "away_team['Fouls'] = epl_19['AF']\n",
    "away_team['Corners'] = epl_19['AC']\n",
    "away_team['Yellowcards'] = epl_19['AY']\n",
    "away_team['Redcards'] = epl_19['AR']\n",
    "away_team['Odds_max'] = epl_19['MaxA']\n",
    "away_team['Odds_average'] = epl_19['AvgA']\n",
    "away_team['Handicap'] = epl_19['AHh'] * (-1)\n",
    "away_team['Handicap_max'] = epl_19['MaxAHA'] \n",
    "away_team['Handicap_average'] = epl_19['AvgAHA']\n",
    "away_team['Odds_max_close'] = epl_19['MaxCA']\n",
    "away_team['Odds_average_close'] = epl_19['AvgCA']\n",
    "away_team['Handicap_close'] = epl_19['AHCh'] * (-1)\n",
    "away_team['Handicap_max_close'] = epl_19['MaxCAHA'] \n",
    "away_team['Handicap_average_close'] = epl_19['AvgCAHA']\n",
    "away_team['FTR'] = abs(1 - epl_19['FTR'])"
   ]
  },
  {
   "cell_type": "code",
   "execution_count": 117,
   "metadata": {},
   "outputs": [],
   "source": [
    "away_team.set_index(['Team'], inplace=True)"
   ]
  },
  {
   "cell_type": "code",
   "execution_count": 118,
   "metadata": {},
   "outputs": [],
   "source": [
    "arsenal = pd.concat([home_team.loc[ 'Arsenal' , : ], away_team.loc[ 'Arsenal' , : ]])"
   ]
  },
  {
   "cell_type": "code",
   "execution_count": 120,
   "metadata": {},
   "outputs": [],
   "source": [
    "arsenal.to_csv('./export/arsenal.csv')"
   ]
  },
  {
   "cell_type": "code",
   "execution_count": 121,
   "metadata": {},
   "outputs": [],
   "source": [
    "aston_villa = pd.concat([home_team.loc[ 'Aston Villa' , : ], away_team.loc[ 'Aston Villa' , : ]])"
   ]
  },
  {
   "cell_type": "code",
   "execution_count": 122,
   "metadata": {},
   "outputs": [],
   "source": [
    "aston_villa.to_csv('./export/aston_villa.csv')"
   ]
  },
  {
   "cell_type": "code",
   "execution_count": 123,
   "metadata": {},
   "outputs": [],
   "source": [
    "brighton = pd.concat([home_team.loc[ 'Brighton' , : ], away_team.loc[ 'Brighton' , : ]])"
   ]
  },
  {
   "cell_type": "code",
   "execution_count": 124,
   "metadata": {},
   "outputs": [],
   "source": [
    "brighton.to_csv('./export/brighton.csv')"
   ]
  },
  {
   "cell_type": "code",
   "execution_count": 125,
   "metadata": {},
   "outputs": [],
   "source": [
    "burnley = pd.concat([home_team.loc[ 'Burnley' , : ], away_team.loc[ 'Burnley' , : ]])"
   ]
  },
  {
   "cell_type": "code",
   "execution_count": 126,
   "metadata": {},
   "outputs": [],
   "source": [
    "burnley.to_csv('./export/burnley.csv')"
   ]
  },
  {
   "cell_type": "code",
   "execution_count": 127,
   "metadata": {},
   "outputs": [],
   "source": [
    "chelsea = pd.concat([home_team.loc[ 'Chelsea' , : ], away_team.loc[ 'Chelsea' , : ]])"
   ]
  },
  {
   "cell_type": "code",
   "execution_count": 128,
   "metadata": {},
   "outputs": [],
   "source": [
    "chelsea.to_csv('./export/chelsea.csv')"
   ]
  },
  {
   "cell_type": "code",
   "execution_count": 129,
   "metadata": {},
   "outputs": [],
   "source": [
    "crystal_palace = pd.concat([home_team.loc[ 'Crystal Palace' , : ], away_team.loc[ 'Crystal Palace' , : ]])"
   ]
  },
  {
   "cell_type": "code",
   "execution_count": 130,
   "metadata": {},
   "outputs": [],
   "source": [
    "crystal_palace.to_csv('./export/crystal_palace.csv')"
   ]
  },
  {
   "cell_type": "code",
   "execution_count": 131,
   "metadata": {},
   "outputs": [],
   "source": [
    "everton = pd.concat([home_team.loc[ 'Everton' , : ], away_team.loc[ 'Everton' , : ]])"
   ]
  },
  {
   "cell_type": "code",
   "execution_count": 132,
   "metadata": {},
   "outputs": [],
   "source": [
    "everton.to_csv('./export/everton.csv')"
   ]
  },
  {
   "cell_type": "code",
   "execution_count": 133,
   "metadata": {},
   "outputs": [],
   "source": [
    "leicester = pd.concat([home_team.loc[ 'Leicester' , : ], away_team.loc[ 'Leicester' , : ]])"
   ]
  },
  {
   "cell_type": "code",
   "execution_count": 134,
   "metadata": {},
   "outputs": [],
   "source": [
    "leicester.to_csv('./export/leicester.csv')"
   ]
  },
  {
   "cell_type": "code",
   "execution_count": 135,
   "metadata": {},
   "outputs": [],
   "source": [
    "liverpool = pd.concat([home_team.loc[ 'Liverpool' , : ], away_team.loc[ 'Liverpool' , : ]])"
   ]
  },
  {
   "cell_type": "code",
   "execution_count": 136,
   "metadata": {},
   "outputs": [],
   "source": [
    "liverpool.to_csv('./export/liverpool.csv')"
   ]
  },
  {
   "cell_type": "code",
   "execution_count": 137,
   "metadata": {},
   "outputs": [],
   "source": [
    "manchester_city = pd.concat([home_team.loc[ 'Man City' , : ], away_team.loc[ 'Man City' , : ]])"
   ]
  },
  {
   "cell_type": "code",
   "execution_count": 138,
   "metadata": {},
   "outputs": [],
   "source": [
    "manchester_city.to_csv('./export/manchester_city.csv')"
   ]
  },
  {
   "cell_type": "code",
   "execution_count": 139,
   "metadata": {},
   "outputs": [],
   "source": [
    "manchester_united = pd.concat([home_team.loc[ 'Man United' , : ], away_team.loc[ 'Man United' , : ]])"
   ]
  },
  {
   "cell_type": "code",
   "execution_count": 140,
   "metadata": {},
   "outputs": [],
   "source": [
    "manchester_united.to_csv('./export/manchester_united.csv')"
   ]
  },
  {
   "cell_type": "code",
   "execution_count": 141,
   "metadata": {},
   "outputs": [],
   "source": [
    "newcastle = pd.concat([home_team.loc[ 'Newcastle' , : ], away_team.loc[ 'Newcastle' , : ]])"
   ]
  },
  {
   "cell_type": "code",
   "execution_count": 142,
   "metadata": {},
   "outputs": [],
   "source": [
    "newcastle.to_csv('./export/newcastle.csv')"
   ]
  },
  {
   "cell_type": "code",
   "execution_count": 143,
   "metadata": {},
   "outputs": [],
   "source": [
    "sheffield = pd.concat([home_team.loc[ 'Sheffield United' , : ], away_team.loc[ 'Sheffield United' , : ]])"
   ]
  },
  {
   "cell_type": "code",
   "execution_count": 144,
   "metadata": {},
   "outputs": [],
   "source": [
    "sheffield.to_csv('./export/sheffield.csv')"
   ]
  },
  {
   "cell_type": "code",
   "execution_count": 145,
   "metadata": {},
   "outputs": [],
   "source": [
    "southampton = pd.concat([home_team.loc[ 'Southampton' , : ], away_team.loc[ 'Southampton' , : ]])"
   ]
  },
  {
   "cell_type": "code",
   "execution_count": 146,
   "metadata": {},
   "outputs": [],
   "source": [
    "southampton.to_csv('./export/southampton.csv')"
   ]
  },
  {
   "cell_type": "code",
   "execution_count": 147,
   "metadata": {},
   "outputs": [],
   "source": [
    "tottenham = pd.concat([home_team.loc[ 'Tottenham' , : ], away_team.loc[ 'Tottenham' , : ]])"
   ]
  },
  {
   "cell_type": "code",
   "execution_count": 148,
   "metadata": {},
   "outputs": [],
   "source": [
    "tottenham.to_csv('./export/tottenham.csv')"
   ]
  },
  {
   "cell_type": "code",
   "execution_count": 149,
   "metadata": {},
   "outputs": [],
   "source": [
    "westham = pd.concat([home_team.loc[ 'West Ham' , : ], away_team.loc[ 'West Ham' , : ]])"
   ]
  },
  {
   "cell_type": "code",
   "execution_count": 150,
   "metadata": {},
   "outputs": [],
   "source": [
    "westham.to_csv('./export/westham.csv')"
   ]
  },
  {
   "cell_type": "code",
   "execution_count": 151,
   "metadata": {},
   "outputs": [],
   "source": [
    "wolves = pd.concat([home_team.loc[ 'Wolves' , : ], away_team.loc[ 'Wolves' , : ]])"
   ]
  },
  {
   "cell_type": "code",
   "execution_count": 152,
   "metadata": {},
   "outputs": [],
   "source": [
    "wolves.to_csv('./export/wolves.csv')"
   ]
  },
  {
   "cell_type": "code",
   "execution_count": null,
   "metadata": {},
   "outputs": [],
   "source": []
  }
 ],
 "metadata": {
  "kernelspec": {
   "display_name": "Python 3",
   "language": "python",
   "name": "python3"
  },
  "language_info": {
   "codemirror_mode": {
    "name": "ipython",
    "version": 3
   },
   "file_extension": ".py",
   "mimetype": "text/x-python",
   "name": "python",
   "nbconvert_exporter": "python",
   "pygments_lexer": "ipython3",
   "version": "3.8.5"
  }
 },
 "nbformat": 4,
 "nbformat_minor": 4
}
